{
 "metadata": {
  "kernelspec": {
   "display_name": "Streamlit Notebook",
   "name": "streamlit"
  },
  "lastEditStatus": {
   "notebookId": "hgopwuxi6yu4ik7cdjit",
   "authorId": "2905156640531",
   "authorName": "HORIZONADMIN",
   "authorEmail": "elizabeth.dendulk@snowflake.com",
   "sessionId": "8b7498a8-5aca-4183-a578-3410006dde48",
   "lastEditTime": 1751287437820
  }
 },
 "nbformat_minor": 5,
 "nbformat": 4,
 "cells": [
  {
   "cell_type": "code",
   "id": "3775908f-ca36-4846-8f38-5adca39217f2",
   "metadata": {
    "language": "python",
    "name": "cell1"
   },
   "source": "# Import python packages\nimport streamlit as st\nimport pandas as pd\n\n# We can also use Snowpark for our analyses!\nfrom snowflake.snowpark.context import get_active_session\nsession = get_active_session()\n",
   "execution_count": null,
   "outputs": []
  },
  {
   "cell_type": "code",
   "id": "8d50cbf4-0c8d-4950-86cb-114990437ac9",
   "metadata": {
    "language": "sql",
    "name": "cell2"
   },
   "source": "USE ROLE sysadmin;\nUSE WAREHOUSE ss_de_wh;\n\n-- store table build \n-- ADD SS_STORES.csv\n\n-- products table build \nCREATE OR REPLACE TABLE ss_101.raw_pos.referentiels_produit as \nselect * EXCLUDE product_url from \"ORGDATACLOUD$INTERNAL$SUMMIT_SPORTS_-_FRENCH_RETAIL_DATA_SET\".SPORTS_DATA.SPORTS_PRODUCT_CATALOGUE;\n\n-- orders table build \nCREATE OR REPLACE TABLE ss_101.raw_pos.order_detail as \nselect * EXCLUDE store_name from \"ORGDATACLOUD$INTERNAL$SUMMIT_SPORTS_-_FRENCH_RETAIL_DATA_SET\".SPORTS_DATA.INSTORE_SALES_DATA_CRM3\nwhere year(sale_date) < '2025';\n\n-- customer loyalty table build \nCREATE OR REPLACE TABLE ss_101.raw_customer.customer_loyalty as \nselect * from \"ORGDATACLOUD$INTERNAL$SUMMIT_SPORTS_-_FRENCH_RETAIL_DATA_SET\".SPORTS_DATA.CUSTOMERS;",
   "execution_count": null,
   "outputs": []
  },
  {
   "cell_type": "code",
   "id": "7fade63b-7597-47f0-8339-0a903ca5cc29",
   "metadata": {
    "language": "sql",
    "name": "cell4"
   },
   "outputs": [],
   "source": "ALTER WAREHOUSE SS_DE_WH SET WAREHOUSE_SIZE = 'X-SMALL';",
   "execution_count": null
  },
  {
   "cell_type": "markdown",
   "id": "64c82526-88a2-4367-b5a2-a1f60b6dbbf5",
   "metadata": {
    "name": "cell6",
    "collapsed": false
   },
   "source": "## View Aggregate Information and Inspect Query Profile"
  },
  {
   "cell_type": "code",
   "id": "54bc32b9-91ef-48c3-ab28-99f4dadea74f",
   "metadata": {
    "language": "sql",
    "name": "cell5"
   },
   "outputs": [],
   "source": "SELECT \n    c.CUSTOMER_ID, c.FIRST_NAME, c.LAST_NAME, c.EMAIL, c.PHONE, c.REGISTRATION_DATE, c.PREFERRED_STORE, c.MARKETING_OPT_IN,\n    round(COALESCE(SUM(isd.sales_price_euro - isd.discount_amount_euro) / COUNT(DISTINCT isd.order_id), 0),2) AS avg_basket_size,\n    COALESCE(SUM(isd.sales_price_euro - isd.discount_amount_euro), 0) AS total_spend,\n    COALESCE(COUNT(DISTINCT isd.order_id), 0) AS total_purchases,\n    MAX(isd.sale_date) AS last_purchase_date,\n    ARRAY_AGG(DISTINCT rp.product_name) WITHIN GROUP (ORDER BY rp.product_name) AS purchased_products\nFROM ss_101.raw_customer.customer_loyalty c\nLEFT JOIN ss_101.raw_pos.order_detail isd\n    ON c.customer_id = isd.customer_id\nLEFT JOIN SS_101.RAW_POS.REFERENTIELS_PRODUIT rp\n    ON isd.product_id = rp.productid\nwhere year(registration_date) < 2024 \nGROUP BY c.CUSTOMER_ID, c.FIRST_NAME, c.LAST_NAME, c.EMAIL, c.PHONE, c.REGISTRATION_DATE, c.PREFERRED_STORE, c.MARKETING_OPT_IN;",
   "execution_count": null
  },
  {
   "cell_type": "markdown",
   "id": "d600bc69-6622-4c23-acee-200d195206be",
   "metadata": {
    "name": "cell8",
    "collapsed": false
   },
   "source": "## Create Dynamic Table for Orders"
  },
  {
   "cell_type": "code",
   "id": "3d655a3d-362a-4ce4-925d-680c1854e026",
   "metadata": {
    "language": "sql",
    "name": "cell7"
   },
   "outputs": [],
   "source": "CREATE OR REPLACE DYNAMIC TABLE ss_101.harmonized.orders_v\n    TARGET_LAG = '1 day'\n    WAREHOUSE = ss_de_wh\n    REFRESH_MODE = INCREMENTAL\n    AS\n    SELECT \n        od.ORDER_ID, od.STOREID, od.SALE_DATE, od.PRODUCT_ID, od.QUANTITY, od.SALES_PRICE_EURO, od.DISCOUNT_AMOUNT_EURO, od.PAYMENT_METHOD, od.SALES_ASSISTANT_ID, od.CUSTOMER_ID, od.CARD_ID,\n        cl.FIRST_NAME, cl.LAST_NAME, \n        m.STORE_NAME, m.STORE_TYPE, m.POSTCODE,\n        rp.PRODUCT_NAME, rp.BRAND, rp.MRP, rp.SALE_PRICE, rp.COLOUR, rp.PRODUCT_CATEGORY\n    FROM ss_101.raw_pos.order_detail od\n    LEFT JOIN ss_101.raw_customer.customer_loyalty cl ON od.customer_id = cl.customer_id\n    LEFT JOIN ss_101.raw_pos.magasins m ON od.storeid = m.storeid\n    LEFT JOIN ss_101.raw_pos.referentiels_produit rp ON od.product_id = rp.productid;\n\nselect * from ss_101.harmonized.orders_v\norder by sale_date desc\nlimit 10 ;\n",
   "execution_count": null
  },
  {
   "cell_type": "code",
   "id": "f7a274dd-ee1d-4e1c-b690-aa3bd103fa60",
   "metadata": {
    "language": "python",
    "name": "cell17"
   },
   "outputs": [],
   "source": "## graph streamlit",
   "execution_count": null
  },
  {
   "cell_type": "markdown",
   "id": "90e445e3-1b03-4eb8-9518-55bf4643f2a8",
   "metadata": {
    "name": "cell10",
    "collapsed": false
   },
   "source": "### Insert new data to inspect Dynamic Table Refresh"
  },
  {
   "cell_type": "code",
   "id": "f09754d0-5d78-423a-b6ec-719aa2415d05",
   "metadata": {
    "language": "sql",
    "name": "cell9"
   },
   "outputs": [],
   "source": "INSERT INTO ss_101.raw_pos.order_detail(ORDER_ID, STOREID, SALE_DATE, PRODUCT_ID, QUANTITY, SALES_PRICE_EURO, DISCOUNT_AMOUNT_EURO, PAYMENT_METHOD, SALES_ASSISTANT_ID, CUSTOMER_ID, CARD_ID)\n  SELECT ORDER_ID, STOREID, SALE_DATE, PRODUCT_ID, QUANTITY, SALES_PRICE_EURO, DISCOUNT_AMOUNT_EURO, PAYMENT_METHOD, SALES_ASSISTANT_ID, CUSTOMER_ID, CARD_ID\n    FROM \"ORGDATACLOUD$INTERNAL$SUMMIT_SPORTS_-_FRENCH_RETAIL_DATA_SET\".SPORTS_DATA.INSTORE_SALES_DATA_CRM3\n    where year(sale_date) = '2025';\n\n\nALTER DYNAMIC TABLE ss_101.harmonized.orders_v REFRESH COPY SESSION;\n\nSELECT * FROM ss_101.harmonized.orders_v\norder by sale_date desc\nlimit 5;",
   "execution_count": null
  },
  {
   "cell_type": "code",
   "id": "26674cb6-0dcc-4288-a5bd-cf660b9880b7",
   "metadata": {
    "language": "python",
    "name": "cell18"
   },
   "outputs": [],
   "source": "## graph streamlit",
   "execution_count": null
  },
  {
   "cell_type": "markdown",
   "id": "7a7a7201-ef6c-4efa-840b-6ad2f95d20f5",
   "metadata": {
    "name": "cell11",
    "collapsed": false
   },
   "source": "## Create Analytics Views for Aggregations"
  },
  {
   "cell_type": "code",
   "id": "ca4cb4f8-e202-4292-8315-fa06df05ee77",
   "metadata": {
    "language": "sql",
    "name": "cell12"
   },
   "outputs": [],
   "source": "CREATE OR REPLACE VIEW SS_101.HARMONIZED.customer_loyalty_metrics_v AS\nSELECT \n        c.CUSTOMER_ID, c.FIRST_NAME, c.LAST_NAME, c.EMAIL, c.PHONE, c.REGISTRATION_DATE, c.PREFERRED_STORE, c.MARKETING_OPT_IN,\n        round(COALESCE(SUM(isd.sales_price_euro - isd.discount_amount_euro) / COUNT(DISTINCT isd.order_id), 0),2) AS avg_basket_size,\n        COALESCE(SUM(isd.sales_price_euro - isd.discount_amount_euro), 0) AS total_spend,\n        COALESCE(COUNT(DISTINCT isd.order_id), 0) AS total_purchases,\n        MAX(isd.sale_date) AS last_purchase_date,\n        ARRAY_AGG(DISTINCT rp.product_name) WITHIN GROUP (ORDER BY rp.product_name) AS purchased_products\n    FROM ss_101.raw_customer.customer_loyalty c\n    LEFT JOIN ss_101.raw_pos.order_detail isd\n        ON c.customer_id = isd.customer_id\n    LEFT JOIN SS_101.RAW_POS.REFERENTIELS_PRODUIT rp\n        ON isd.product_id = rp.productid\n    GROUP BY c.CUSTOMER_ID, c.FIRST_NAME, c.LAST_NAME, c.EMAIL, c.PHONE, c.REGISTRATION_DATE, c.PREFERRED_STORE, c.MARKETING_OPT_IN; \n\n/*--\n • analytics view creation\n--*/\n\n-- orders_v view\nCREATE OR REPLACE VIEW ss_101.analytics.orders_v\nCOMMENT = 'summit sports Order Detail View'\n    AS\nSELECT DATE(o.sale_date) AS date, * FROM ss_101.harmonized.orders_v o;\n\n-- customer_loyalty_metrics_v view\nCREATE OR REPLACE VIEW ss_101.analytics.customer_loyalty_metrics_v\nCOMMENT = 'summit sports Customer Loyalty Member Metrics View'\n    AS\nSELECT * FROM ss_101.harmonized.customer_loyalty_metrics_v;",
   "execution_count": null
  },
  {
   "cell_type": "markdown",
   "id": "64675dc3-95ec-44f5-8f7c-0e40f7716311",
   "metadata": {
    "name": "cell13",
    "collapsed": false
   },
   "source": "## Use Cortex AI to Enhance Analytics"
  },
  {
   "cell_type": "code",
   "id": "38a05137-6284-4391-89be-9cb812482187",
   "metadata": {
    "language": "sql",
    "name": "cell14"
   },
   "outputs": [],
   "source": "CREATE WAREHOUSE SS_DATASCIENCE WITH\n  WAREHOUSE_TYPE = 'SNOWPARK-OPTIMIZED'\n  WAREHOUSE_SIZE = MEDIUM\n  RESOURCE_CONSTRAINT = 'MEMORY_16X_x86';\n\nuse warehouse SS_DATASCIENCE;",
   "execution_count": null
  },
  {
   "cell_type": "code",
   "id": "c695373e-ac74-4b62-a1f1-08206cbd5c81",
   "metadata": {
    "language": "python",
    "name": "cell3"
   },
   "source": "# Then, we can use the python name to turn cell2 into a Pandas dataframe\nmy_df = cell2.to_pandas()\n\n# Chart the data\nst.subheader(\"Chance of SNOW ❄️\")\nst.line_chart(my_df, x='SNOWDAY', y='CHANCE_OF_SNOW')\n\n# Give it a go!\nst.subheader(\"Try it out yourself and show off your skills 🥇\")",
   "execution_count": null,
   "outputs": []
  },
  {
   "cell_type": "code",
   "id": "a94f28d3-95ef-4f4e-90be-8eb50224c25f",
   "metadata": {
    "language": "sql",
    "name": "cell16"
   },
   "outputs": [],
   "source": "SELECT * FROM ss_101.harmonized.customer_loyalty_metrics_v\nWHERE AI_FILTER(PROMPT('Basé sur le liste de produit acheté, cette personne a des enfants: {0}', ARRAY_TO_STRING(purchased_products, ', ')));",
   "execution_count": null
  },
  {
   "cell_type": "code",
   "id": "49d560f1-3cd1-4d66-9514-85559ee8a18d",
   "metadata": {
    "language": "sql",
    "name": "cell15"
   },
   "outputs": [],
   "source": "use warehouse SS_DATASCIENCE;\nCREATE OR REPLACE table SS_101.HARMONIZED.customer_loyalty_metrics_t AS\n    select *,\n    AI_COMPLETE('mistral-large',\n        CONCAT('Vous etes un assistant marketing qui travaille pour un magasin de sport. En français, écrivez un email personalisé au client <clientname>', first_name, last_name,  '</clientname> qui donne une promo personalisé de max 10% sur une categorie qui leur interesse basé sur le liste de produits achetés :  <producthistory>', ARRAY_TO_STRING(purchased_products, ', '), '</producthistory>')\n        ) as product_profile\n    from SS_101.HARMONIZED.CUSTOMER_LOYALTY_WITH_METRICS_DT\n    where avg_basket_size > 1000\n    limit 3;\n\nselect * from SS_101.HARMONIZED.customer_loyalty_metrics_t;",
   "execution_count": null
  }
 ]
}