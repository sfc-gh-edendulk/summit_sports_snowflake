{
 "cells": [
  {
   "cell_type": "markdown",
   "id": "1cd3bea7-5bf0-4a6a-9a80-6220fe9ad4e3",
   "metadata": {
    "collapsed": false,
    "name": "cell20"
   },
   "source": [
    "# Exploration et Analyse de Données de Ventes de Summit Sports  ⛷ 🧗‍♀️"
   ]
  },
  {
   "cell_type": "markdown",
   "id": "7de5a73f-443d-47fb-bbe5-afb58bcdea65",
   "metadata": {
    "collapsed": false,
    "name": "cell21"
   },
   "source": [
    "## 1. Initialisation de l'environnement et chargement des données"
   ]
  },
  {
   "cell_type": "code",
   "execution_count": null,
   "id": "3775908f-ca36-4846-8f38-5adca39217f2",
   "metadata": {
    "language": "python",
    "name": "cell1"
   },
   "outputs": [],
   "source": [
    "# Import python packages\n",
    "import streamlit as st\n",
    "import pandas as pd\n",
    "import matplotlib.pyplot as plt\n",
    "\n",
    "# We can also use Snowpark for our analyses!\n",
    "from snowflake.snowpark.context import get_active_session\n",
    "session = get_active_session()\n"
   ]
  },
  {
   "cell_type": "markdown",
   "id": "e1be5b28-554b-4b6d-92ec-454949941e5d",
   "metadata": {
    "collapsed": false,
    "name": "cell19"
   },
   "source": [
    "## Ingestion des données des magasins (SS_STORES)\n"
   ]
  },
  {
   "cell_type": "code",
   "execution_count": null,
   "id": "8d50cbf4-0c8d-4950-86cb-114990437ac9",
   "metadata": {
    "language": "sql",
    "name": "cell2"
   },
   "outputs": [],
   "source": [
    "USE ROLE sysadmin;\n",
    "USE WAREHOUSE ss_de_wh;\n",
    "\n",
    "-- LOAD SS_STORES.csv in ss_101.raw_pos.magasins\n",
    "\n",
    "select * from ss_101.raw_pos.magasins limit 10;\n"
   ]
  },
  {
   "cell_type": "markdown",
   "id": "7140f6aa",
   "metadata": {},
   "source": [
    "## Création des tables: référence des produits, commandes et clients"
   ]
  },
  {
   "cell_type": "markdown",
   "id": "3e54915f",
   "metadata": {},
   "source": [
    "Grâce au **Direct Share** de Snowflake, vous pouvez partager des données avec d'autres comptes Snowflake de manière sécurisée et instantanée, sans aucune copie physique des données (\"zero copy cloning\"). Cela permet un accès immédiat aux données partagées, optimisant ainsi la collaboration et la gouvernance."
   ]
  },
  {
   "cell_type": "code",
   "execution_count": null,
   "id": "2b19d3fb",
   "metadata": {},
   "outputs": [],
   "source": [
    "-- create db from share\n",
    "use role accountadmin;\n",
    "--CREATE OR REPLACE DATABASE sports_db FROM SHARE FKB85976.sports_db_share;\n",
    "\n",
    "-- grant privileges to sysadmin role\n",
    "GRANT IMPORTED PRIVILEGES ON DATABASE sports_db TO ROLE sysadmin;"
   ]
  },
  {
   "cell_type": "code",
   "execution_count": null,
   "id": "8d8c1062-5140-4533-88bd-540f5b625995",
   "metadata": {
    "language": "sql",
    "name": "cell22"
   },
   "outputs": [],
   "source": [
    "use role sysadmin;\n",
    "-- products table build\n",
    "-- TODO replace DB_NAME & SCHEMA_NAME\n",
    "CREATE OR REPLACE TABLE ss_101.raw_pos.referentiels_produit as \n",
    "select * EXCLUDE product_url from <DB_NAME>.<SCHEMA_NAME>.SPORTS_PRODUCT_CATALOGUE;\n",
    "\n",
    "-- orders table build \n",
    "-- TODO replace DB_NAME & SCHEMA_NAME\n",
    "CREATE OR REPLACE TABLE ss_101.raw_pos.order_detail as \n",
    "select * EXCLUDE store_name from <DB_NAME>.<SCHEMA_NAME>.INSTORE_SALES_DATA_CRM3\n",
    "where year(sale_date) < '2025';\n",
    "\n",
    "-- customer loyalty table build \n",
    "-- TODO replace DB_NAME & SCHEMA_NAME\n",
    "CREATE OR REPLACE TABLE ss_101.raw_customer.customer_loyalty as \n",
    "select * from <DB_NAME>.<SCHEMA_NAME>.CUSTOMERS;"
   ]
  },
  {
   "cell_type": "markdown",
   "id": "cde1703a-2a0a-4564-b783-c1d7bd73e319",
   "metadata": {
    "collapsed": false,
    "name": "cell25"
   },
   "source": [
    "Pour optimiser la performance et les coûts, nous allons ajuster la taille de notre warehouse"
   ]
  },
  {
   "cell_type": "code",
   "execution_count": null,
   "id": "7fade63b-7597-47f0-8339-0a903ca5cc29",
   "metadata": {
    "language": "sql",
    "name": "cell4"
   },
   "outputs": [],
   "source": [
    "ALTER WAREHOUSE SS_DE_WH SET WAREHOUSE_SIZE = 'X-SMALL';"
   ]
  },
  {
   "cell_type": "markdown",
   "id": "64c82526-88a2-4367-b5a2-a1f60b6dbbf5",
   "metadata": {
    "collapsed": false,
    "name": "cell6"
   },
   "source": [
    "## 2. Exploration des Données Agrégées et Profil de Requête\n"
   ]
  },
  {
   "cell_type": "code",
   "execution_count": null,
   "id": "8e1ee214-7560-485f-9910-f6a0015e5723",
   "metadata": {
    "language": "sql",
    "name": "cell27"
   },
   "outputs": [],
   "source": [
    "//ALTER SESSION SET USE_CACHED_RESULT=FALSE;"
   ]
  },
  {
   "cell_type": "code",
   "execution_count": null,
   "id": "54bc32b9-91ef-48c3-ab28-99f4dadea74f",
   "metadata": {
    "language": "sql",
    "name": "cell5"
   },
   "outputs": [],
   "source": [
    "SELECT \n",
    "    c.CUSTOMER_ID, c.FIRST_NAME, c.LAST_NAME, c.EMAIL, c.PHONE, c.REGISTRATION_DATE, c.PREFERRED_STORE, c.MARKETING_OPT_IN,\n",
    "    round(COALESCE(SUM(isd.sales_price_euro - isd.discount_amount_euro) / COUNT(DISTINCT isd.order_id), 0),2) AS avg_basket_size,\n",
    "    COALESCE(SUM(isd.sales_price_euro - isd.discount_amount_euro), 0) AS total_spend,\n",
    "    COALESCE(COUNT(DISTINCT isd.order_id), 0) AS total_purchases,\n",
    "    MAX(isd.sale_date) AS last_purchase_date,\n",
    "    ARRAY_AGG(DISTINCT rp.product_name) WITHIN GROUP (ORDER BY rp.product_name) AS purchased_products\n",
    "FROM ss_101.raw_customer.customer_loyalty c\n",
    "LEFT JOIN ss_101.raw_pos.order_detail isd\n",
    "    ON c.customer_id = isd.customer_id\n",
    "LEFT JOIN SS_101.RAW_POS.REFERENTIELS_PRODUIT rp\n",
    "    ON isd.product_id = rp.productid\n",
    "where year(registration_date) > 2024 \n",
    "GROUP BY c.CUSTOMER_ID, c.FIRST_NAME, c.LAST_NAME, c.EMAIL, c.PHONE, c.REGISTRATION_DATE, c.PREFERRED_STORE, c.MARKETING_OPT_IN;"
   ]
  },
  {
   "cell_type": "markdown",
   "id": "3039757e-4cc1-4440-852e-e3b81def659a",
   "metadata": {
    "collapsed": false,
    "name": "cell26"
   },
   "source": [
    "En utilisant l'historique des query de votre warehouse, consultez le query profile de votre requête pour visualiser les étapes d'exécution et identifier les éventuels bottlenecks."
   ]
  },
  {
   "cell_type": "markdown",
   "id": "d600bc69-6622-4c23-acee-200d195206be",
   "metadata": {
    "collapsed": false,
    "name": "cell8"
   },
   "source": [
    "## 3. Création d'une Dynamic Table harmonisée"
   ]
  },
  {
   "cell_type": "code",
   "execution_count": null,
   "id": "3d655a3d-362a-4ce4-925d-680c1854e026",
   "metadata": {
    "language": "sql",
    "name": "cell7"
   },
   "outputs": [],
   "source": [
    "CREATE OR REPLACE DYNAMIC TABLE ss_101.harmonized.orders_dt\n",
    "    TARGET_LAG = '1 day'\n",
    "    WAREHOUSE = ss_de_wh\n",
    "    REFRESH_MODE = INCREMENTAL\n",
    "    AS\n",
    "    SELECT \n",
    "        od.ORDER_ID, od.STOREID, od.SALE_DATE, od.PRODUCT_ID, od.QUANTITY, od.SALES_PRICE_EURO, od.DISCOUNT_AMOUNT_EURO, od.PAYMENT_METHOD, od.SALES_ASSISTANT_ID, od.CUSTOMER_ID, od.CARD_ID,\n",
    "        cl.FIRST_NAME, cl.LAST_NAME, \n",
    "        m.STORE_NAME, m.STORE_TYPE, m.POSTCODE,\n",
    "        rp.PRODUCT_NAME, rp.BRAND, rp.MRP, rp.SALE_PRICE, rp.COLOUR, rp.PRODUCT_CATEGORY\n",
    "    FROM ss_101.raw_pos.order_detail od\n",
    "    LEFT JOIN ss_101.raw_customer.customer_loyalty cl ON od.customer_id = cl.customer_id\n",
    "    LEFT JOIN ss_101.raw_pos.magasins m ON od.storeid = m.storeid\n",
    "    LEFT JOIN ss_101.raw_pos.referentiels_produit rp ON od.product_id = rp.productid;\n",
    "\n",
    "select * from ss_101.harmonized.orders_dt\n",
    "order by sale_date desc\n",
    "limit 10 ;\n"
   ]
  },
  {
   "cell_type": "markdown",
   "id": "f7a274dd-ee1d-4e1c-b690-aa3bd103fa60",
   "metadata": {
    "collapsed": false,
    "name": "cell17"
   },
   "source": [
    "## Visualisation des ventes de 2024 avec Streamlit ✨"
   ]
  },
  {
   "cell_type": "code",
   "execution_count": null,
   "id": "14217dbe-3af0-47bb-bfef-fa3d32f8635c",
   "metadata": {
    "language": "sql",
    "name": "cell29"
   },
   "outputs": [],
   "source": [
    "ALTER WAREHOUSE SS_DE_WH SET WAREHOUSE_SIZE = 'MEDIUM';"
   ]
  },
  {
   "cell_type": "code",
   "execution_count": null,
   "id": "6034059c-3508-4a7a-b24f-ee9bf5a0f386",
   "metadata": {
    "language": "python",
    "name": "cell28"
   },
   "outputs": [],
   "source": [
    "orders_df_snowpark= session.table(\"ss_101.harmonized.orders_dt\")\n",
    "df = orders_df_snowpark.to_pandas()\n",
    "df['SALE_DATE'] = pd.to_datetime(df['SALE_DATE'])\n",
    "df = df[df['SALE_DATE'].dt.year == 2024]\n",
    "\n",
    "\n",
    "# Statistiques clés\n",
    "st.subheader(\"📊 Statistiques\")\n",
    "col1, col2, col3 = st.columns(3)\n",
    "col1.metric(\"Total ventes (€)\", f\"{df['SALES_PRICE_EURO'].sum():,.2f}\")\n",
    "col2.metric(\"Quantité vendue\", int(df['QUANTITY'].sum()))\n",
    "col3.metric(\"Commandes\", df['ORDER_ID'].nunique())\n",
    "\n",
    "# Graphique des ventes par jour\n",
    "st.subheader(\"📈 Ventes par mois\")\n",
    "\n",
    "df['SALE_MONTH'] = df['SALE_DATE'].dt.month\n",
    "monthly_sales = df.groupby(\"SALE_MONTH\")[\"SALES_PRICE_EURO\"].sum()\n",
    "fig, ax = plt.subplots()\n",
    "monthly_sales.plot(ax=ax)\n",
    "ax.set_ylabel(\"Ventes (€)\")\n",
    "ax.set_xlabel(\"Mois\")"
   ]
  },
  {
   "cell_type": "markdown",
   "id": "90e445e3-1b03-4eb8-9518-55bf4643f2a8",
   "metadata": {
    "collapsed": false,
    "name": "cell10"
   },
   "source": [
    "### Insert new data to inspect Dynamic Table Refresh"
   ]
  },
  {
   "cell_type": "code",
   "execution_count": null,
   "id": "f09754d0-5d78-423a-b6ec-719aa2415d05",
   "metadata": {
    "language": "sql",
    "name": "cell9"
   },
   "outputs": [],
   "source": [
    "INSERT INTO ss_101.raw_pos.order_detail(ORDER_ID, STOREID, SALE_DATE, PRODUCT_ID, QUANTITY, SALES_PRICE_EURO, DISCOUNT_AMOUNT_EURO, PAYMENT_METHOD, SALES_ASSISTANT_ID, CUSTOMER_ID, CARD_ID)\n",
    "  SELECT ORDER_ID, STOREID, SALE_DATE, PRODUCT_ID, QUANTITY, SALES_PRICE_EURO, DISCOUNT_AMOUNT_EURO, PAYMENT_METHOD, SALES_ASSISTANT_ID, CUSTOMER_ID, CARD_ID \n",
    "  FROM SPORTS_DB.SPORTS_DATA.INSTORE_SALES_DATA_CRM3\n",
    "  WHERE year(sale_date) = '2025';\n",
    "\n",
    "\n",
    "ALTER DYNAMIC TABLE ss_101.harmonized.orders_dt REFRESH COPY SESSION;\n",
    "\n",
    "SELECT * FROM ss_101.harmonized.orders_dt\n",
    "order by sale_date desc\n",
    "limit 5;"
   ]
  },
  {
   "cell_type": "markdown",
   "id": "ecbcc1cf-0b76-488e-b0f3-ea3ff529ebd4",
   "metadata": {
    "collapsed": false,
    "name": "cell31"
   },
   "source": [
    "## Visualisation des ventes de 2025 avec Streamlit ✨"
   ]
  },
  {
   "cell_type": "code",
   "execution_count": null,
   "id": "26674cb6-0dcc-4288-a5bd-cf660b9880b7",
   "metadata": {
    "language": "python",
    "name": "cell18"
   },
   "outputs": [],
   "source": [
    "orders_df_snowpark= session.table(\"ss_101.harmonized.orders_dt\")\n",
    "df = orders_df_snowpark.to_pandas()\n",
    "df['SALE_DATE'] = pd.to_datetime(df['SALE_DATE'])\n",
    "df = df[df['SALE_DATE'].dt.year == 2025]\n",
    "\n",
    "\n",
    "# Statistiques clés\n",
    "st.subheader(\"📊 Statistiques\")\n",
    "col1, col2, col3 = st.columns(3)\n",
    "col1.metric(\"Total ventes (€)\", f\"{df['SALES_PRICE_EURO'].sum():,.2f}\")\n",
    "col2.metric(\"Quantité vendue\", int(df['QUANTITY'].sum()))\n",
    "col3.metric(\"Commandes\", df['ORDER_ID'].nunique())\n",
    "\n",
    "# Graphique des ventes par jour\n",
    "st.subheader(\"📈 Ventes par mois\")\n",
    "\n",
    "df['SALE_MONTH'] = df['SALE_DATE'].dt.month\n",
    "monthly_sales = df.groupby(\"SALE_MONTH\")[\"SALES_PRICE_EURO\"].sum()\n",
    "fig, ax = plt.subplots()\n",
    "monthly_sales.plot(ax=ax)\n",
    "ax.set_xticks(range(len(monthly_sales.index)))\n",
    "ax.set_ylabel(\"Ventes (€)\")\n",
    "ax.set_xlabel(\"Mois\")"
   ]
  },
  {
   "cell_type": "markdown",
   "id": "7a7a7201-ef6c-4efa-840b-6ad2f95d20f5",
   "metadata": {
    "collapsed": false,
    "name": "cell11"
   },
   "source": [
    "## Création des Analytics Views"
   ]
  },
  {
   "cell_type": "code",
   "execution_count": null,
   "id": "ca4cb4f8-e202-4292-8315-fa06df05ee77",
   "metadata": {
    "language": "sql",
    "name": "cell12"
   },
   "outputs": [],
   "source": [
    "CREATE OR REPLACE VIEW SS_101.HARMONIZED.customer_loyalty_metrics_v AS\n",
    "SELECT \n",
    "        c.CUSTOMER_ID, c.FIRST_NAME, c.LAST_NAME, c.EMAIL, c.PHONE, c.REGISTRATION_DATE, c.PREFERRED_STORE, c.MARKETING_OPT_IN,\n",
    "        round(COALESCE(SUM(isd.sales_price_euro - isd.discount_amount_euro) / COUNT(DISTINCT isd.order_id), 0),2) AS avg_basket_size,\n",
    "        COALESCE(SUM(isd.sales_price_euro - isd.discount_amount_euro), 0) AS total_spend,\n",
    "        COALESCE(COUNT(DISTINCT isd.order_id), 0) AS total_purchases,\n",
    "        MAX(isd.sale_date) AS last_purchase_date,\n",
    "        ARRAY_AGG(DISTINCT rp.product_name) WITHIN GROUP (ORDER BY rp.product_name) AS purchased_products\n",
    "    FROM ss_101.raw_customer.customer_loyalty c\n",
    "    LEFT JOIN ss_101.raw_pos.order_detail isd\n",
    "        ON c.customer_id = isd.customer_id\n",
    "    LEFT JOIN SS_101.RAW_POS.REFERENTIELS_PRODUIT rp\n",
    "        ON isd.product_id = rp.productid\n",
    "    GROUP BY c.CUSTOMER_ID, c.FIRST_NAME, c.LAST_NAME, c.EMAIL, c.PHONE, c.REGISTRATION_DATE, c.PREFERRED_STORE, c.MARKETING_OPT_IN; \n",
    "\n",
    "/*--\n",
    " • analytics view creation\n",
    "--*/\n",
    "\n",
    "-- orders_v view\n",
    "CREATE OR REPLACE VIEW ss_101.analytics.orders_v\n",
    "COMMENT = 'summit sports Order Detail View'\n",
    "    AS\n",
    "SELECT DATE(o.sale_date) AS date, * FROM ss_101.harmonized.orders_dt o;\n",
    "\n",
    "-- customer_loyalty_metrics_v view\n",
    "CREATE OR REPLACE VIEW ss_101.analytics.customer_loyalty_metrics_v\n",
    "COMMENT = 'summit sports Customer Loyalty Member Metrics View'\n",
    "    AS\n",
    "SELECT * FROM ss_101.harmonized.customer_loyalty_metrics_v;"
   ]
  },
  {
   "cell_type": "markdown",
   "id": "64675dc3-95ec-44f5-8f7c-0e40f7716311",
   "metadata": {
    "collapsed": false,
    "name": "cell13"
   },
   "source": [
    "## Utiliser Cortex AI pour faire des analytics sur les clients"
   ]
  },
  {
   "cell_type": "code",
   "execution_count": null,
   "id": "38a05137-6284-4391-89be-9cb812482187",
   "metadata": {
    "language": "sql",
    "name": "cell14"
   },
   "outputs": [],
   "source": [
    "CREATE OR REPLACE WAREHOUSE SS_DATASCIENCE WITH\n",
    "  WAREHOUSE_TYPE = 'SNOWPARK-OPTIMIZED'\n",
    "  WAREHOUSE_SIZE = MEDIUM\n",
    "  RESOURCE_CONSTRAINT = 'MEMORY_16X_x86';"
   ]
  },
  {
   "cell_type": "code",
   "execution_count": null,
   "id": "a0f9b246-838f-4e3b-b624-7d6ea5f75b5e",
   "metadata": {
    "language": "sql",
    "name": "cell3"
   },
   "outputs": [],
   "source": [
    "use warehouse SS_DATASCIENCE;"
   ]
  },
  {
   "cell_type": "code",
   "execution_count": null,
   "id": "a94f28d3-95ef-4f4e-90be-8eb50224c25f",
   "metadata": {
    "language": "sql",
    "name": "cell16"
   },
   "outputs": [],
   "source": [
    "SELECT * FROM ss_101.analytics.customer_loyalty_metrics_v\n",
    "WHERE AI_FILTER(PROMPT('Basé sur la liste des produits achetés, cette personne a des enfants: {0}', ARRAY_TO_STRING(purchased_products, ', ')))\n",
    "limit 5;"
   ]
  },
  {
   "cell_type": "code",
   "execution_count": null,
   "id": "49d560f1-3cd1-4d66-9514-85559ee8a18d",
   "metadata": {
    "language": "sql",
    "name": "cell15"
   },
   "outputs": [],
   "source": [
    "use warehouse SS_DATASCIENCE;\n",
    "CREATE OR REPLACE table SS_101.HARMONIZED.customer_loyalty_metrics_t AS\n",
    "    select *,\n",
    "    AI_COMPLETE('mistral-large',\n",
    "        CONCAT('Vous etes un assistant marketing qui travaille pour un magasin de sport. En français, écrivez un email personalisé au client <clientname>', first_name, last_name,  '</clientname> qui donne une promo personnalisé de maximum 10% sur une catégorie qui les intéresse basé sur la liste de produits achetés :  <producthistory>', ARRAY_TO_STRING(purchased_products, ', '), '</producthistory>')\n",
    "        ) as product_profile\n",
    "    from ss_101.analytics.customer_loyalty_metrics_v\n",
    "    where avg_basket_size > 1000\n",
    "    limit 3;"
   ]
  },
  {
   "cell_type": "code",
   "execution_count": null,
   "id": "2f61f493-4ff0-496f-b37e-cea1303f03f1",
   "metadata": {
    "language": "sql",
    "name": "cell30"
   },
   "outputs": [],
   "source": [
    "select * from  SS_101.HARMONIZED.customer_loyalty_metrics_t;"
   ]
  }
 ],
 "metadata": {
  "kernelspec": {
   "display_name": "Streamlit Notebook",
   "name": "streamlit"
  },
  "lastEditStatus": {
   "authorEmail": "imane.mriziga@snowflake.com",
   "authorId": "4315470351818",
   "authorName": "IMANE_M",
   "lastEditTime": 1751325834231,
   "notebookId": "hgopwuxi6yu4ik7cdjit",
   "sessionId": "7efdd545-9e8d-4702-b5de-59b328fa9ad4"
  }
 },
 "nbformat": 4,
 "nbformat_minor": 5
}
